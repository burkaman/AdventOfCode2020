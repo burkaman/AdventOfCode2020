{
 "cells": [
  {
   "cell_type": "markdown",
   "metadata": {
    "collapsed": true,
    "pycharm": {
     "name": "#%% md\n"
    }
   },
   "source": [
    "# [Day 1: Report Repair](https://adventofcode.com/2020/day/1)\n",
    "\n",
    "## Part 1\n",
    "\n",
    "Given an expends report with an expense (integer) on each line, find two expenses that sum to 2020 and return their product.\n",
    "\n",
    "Example:\n",
    "\n",
    "`1721`<br>\n",
    "`979`<br>\n",
    "`366`<br>\n",
    "`299`<br>\n",
    "`675`<br>\n",
    "`1456`\n",
    "\n",
    "`1721 + 299 = 2020,`so return`514579`.\n",
    "\n",
    "## Part 2\n",
    "\n",
    "Find three expenses that satisfy the criteria above."
   ]
  },
  {
   "cell_type": "code",
   "execution_count": 24,
   "outputs": [
    {
     "name": "stdout",
     "output_type": "stream",
     "text": [
      "Part 1: 972576\n",
      "Part 2: 199300880\n"
     ]
    }
   ],
   "source": [
    "from typing import Optional, Set\n",
    "\n",
    "def day1_part1(expenses: Set[int]) -> Optional[int]:\n",
    "    for expense in expenses:\n",
    "        if 2020 - expense in expenses:\n",
    "            return expense * (2020 - expense)\n",
    "    return None\n",
    "\n",
    "def day1_part2(expenses: Set[int]) -> Optional[int]:\n",
    "    for expense in expenses:\n",
    "        for expense2 in expenses:\n",
    "            if expense == expense2:\n",
    "                pass\n",
    "            expense3 = 2020 - (expense + expense2)\n",
    "            if expense3 in expenses:\n",
    "                return expense * expense2 * expense3\n",
    "    return None\n",
    "\n",
    "expense_report = frozenset(map(int, open('input/day1.txt', 'r').readlines()))\n",
    "print('Part 1:', day1_part1(expense_report))\n",
    "print('Part 2:', day1_part2(expense_report))"
   ],
   "metadata": {
    "collapsed": false,
    "pycharm": {
     "name": "#%%\n"
    }
   }
  },
  {
   "cell_type": "markdown",
   "source": [
    "# [Day 2: Password Philosophy](https://adventofcode.com/2020/day/2)\n",
    "\n",
    "## Part 1\n",
    "\n",
    "Given a list of password policies and passwords, return how many passwords are valid.\n",
    "\n",
    "Format: `[min #]-[max #] [required letter]: [password]`\n",
    "\n",
    "Example: `1-3 a: abcde`\n",
    "\n",
    "In the example, the password must contain at least one and no more than three 'a's.\n",
    "\n",
    "## Part 2\n",
    "\n",
    "The numbers in the policy now refer to two 1-indexed positions in the password, exactly one of which must be the required letter."
   ],
   "metadata": {
    "collapsed": false
   }
  },
  {
   "cell_type": "code",
   "execution_count": 25,
   "outputs": [
    {
     "name": "stdout",
     "output_type": "stream",
     "text": [
      "Part 1: 467\n",
      "Part 2: 441\n"
     ]
    }
   ],
   "source": [
    "from dataclasses import dataclass\n",
    "from functools import reduce\n",
    "import re\n",
    "from typing import Tuple, List\n",
    "\n",
    "@dataclass\n",
    "class PasswordAndPolicy:\n",
    "    range: Tuple[int, int]\n",
    "    letter: str\n",
    "    password: str\n",
    "\n",
    "def parse_password(line: str) -> PasswordAndPolicy:\n",
    "    groups = re.match('(\\d+)-(\\d+) ([a-z]): ([a-z]+)', line).groups()\n",
    "    return PasswordAndPolicy((int(groups[0]), int(groups[1])), groups[2], groups[3])\n",
    "\n",
    "def day2_part1(passwords: List[PasswordAndPolicy]) -> int:\n",
    "    valid = 0\n",
    "    for p in passwords:\n",
    "        if p.range[0] <= reduce(lambda count, char: count + 1 if char == p.letter else count, p.password, 0) <= p.range[1]:\n",
    "            valid += 1\n",
    "    return valid\n",
    "\n",
    "def day2_part2(passwords: List[PasswordAndPolicy]) -> int:\n",
    "    valid = 0\n",
    "    for p in passwords:\n",
    "        if (p.password[p.range[0] - 1] == p.letter) ^ (p.password[p.range[1] - 1] == p.letter):\n",
    "            valid += 1\n",
    "    return valid\n",
    "\n",
    "password_list = list(map(parse_password, open('input/day2.txt', 'r').readlines()))\n",
    "print('Part 1:', day2_part1(password_list))\n",
    "print('Part 2:', day2_part2(password_list))"
   ],
   "metadata": {
    "collapsed": false,
    "pycharm": {
     "name": "#%%\n"
    }
   }
  }
 ],
 "metadata": {
  "kernelspec": {
   "name": "pycharm-55871ef2",
   "language": "python",
   "display_name": "PyCharm (NIOA)"
  },
  "language_info": {
   "codemirror_mode": {
    "name": "ipython",
    "version": 2
   },
   "file_extension": ".py",
   "mimetype": "text/x-python",
   "name": "python",
   "nbconvert_exporter": "python",
   "pygments_lexer": "ipython2",
   "version": "2.7.6"
  }
 },
 "nbformat": 4,
 "nbformat_minor": 0
}