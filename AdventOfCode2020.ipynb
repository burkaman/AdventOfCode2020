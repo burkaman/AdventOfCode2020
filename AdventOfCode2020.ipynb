{
 "cells": [
  {
   "cell_type": "markdown",
   "metadata": {
    "collapsed": true,
    "pycharm": {
     "name": "#%% md\n"
    }
   },
   "source": [
    "# [Day 1: Report Repair](https://adventofcode.com/2020/day/1)\n",
    "\n",
    "## Part 1\n",
    "\n",
    "Given an expends report with an expense (integer) on each line, find two expenses that sum to 2020 and return their product.\n",
    "\n",
    "Example:\n",
    "\n",
    "`1721`<br>\n",
    "`979`<br>\n",
    "`366`<br>\n",
    "`299`<br>\n",
    "`675`<br>\n",
    "`1456`\n",
    "\n",
    "`1721 + 299 = 2020,`so return`514579`.\n",
    "\n",
    "## Part 2\n",
    "\n",
    "Find three expenses that satisfy the criteria above."
   ]
  },
  {
   "cell_type": "code",
   "execution_count": 517,
   "outputs": [
    {
     "name": "stdout",
     "output_type": "stream",
     "text": [
      "Part 1: 972576\n",
      "Part 2: 199300880\n"
     ]
    }
   ],
   "source": [
    "from typing import Optional, Set\n",
    "\n",
    "def day1_part1(expenses: Set[int]) -> Optional[int]:\n",
    "    for expense in expenses:\n",
    "        if 2020 - expense in expenses:\n",
    "            return expense * (2020 - expense)\n",
    "    return None\n",
    "\n",
    "def day1_part2(expenses: Set[int]) -> Optional[int]:\n",
    "    for expense in expenses:\n",
    "        for expense2 in expenses:\n",
    "            if expense == expense2:\n",
    "                continue\n",
    "            expense3 = 2020 - (expense + expense2)\n",
    "            if expense3 in expenses:\n",
    "                return expense * expense2 * expense3\n",
    "    return None\n",
    "\n",
    "expense_report = frozenset(map(int, open('input/day1.txt', 'r').readlines()))\n",
    "print('Part 1:', day1_part1(expense_report))\n",
    "print('Part 2:', day1_part2(expense_report))"
   ],
   "metadata": {
    "collapsed": false,
    "pycharm": {
     "name": "#%%\n"
    }
   }
  },
  {
   "cell_type": "markdown",
   "source": [
    "# [Day 2: Password Philosophy](https://adventofcode.com/2020/day/2)\n",
    "\n",
    "## Part 1\n",
    "\n",
    "Given a list of password policies and passwords, return how many passwords are valid.\n",
    "\n",
    "Format: `[min #]-[max #] [required letter]: [password]`\n",
    "\n",
    "Example: `1-3 a: abcde`\n",
    "\n",
    "In the example, the password must contain at least one and no more than three 'a's.\n",
    "\n",
    "## Part 2\n",
    "\n",
    "The numbers in the policy now refer to two 1-indexed positions in the password, exactly one of which must be the required letter."
   ],
   "metadata": {
    "collapsed": false
   }
  },
  {
   "cell_type": "code",
   "execution_count": 518,
   "outputs": [
    {
     "name": "stdout",
     "output_type": "stream",
     "text": [
      "Part 1: 467\n",
      "Part 2: 441\n"
     ]
    }
   ],
   "source": [
    "from dataclasses import dataclass\n",
    "from functools import reduce\n",
    "import re\n",
    "from typing import Tuple, List\n",
    "\n",
    "@dataclass\n",
    "class PasswordAndPolicy:\n",
    "    range: Tuple[int, int]\n",
    "    letter: str\n",
    "    password: str\n",
    "\n",
    "def parse_password(line: str) -> PasswordAndPolicy:\n",
    "    groups = re.match('(\\d+)-(\\d+) ([a-z]): ([a-z]+)', line).groups()\n",
    "    return PasswordAndPolicy((int(groups[0]), int(groups[1])), groups[2], groups[3])\n",
    "\n",
    "def day2_part1(passwords: List[PasswordAndPolicy]) -> int:\n",
    "    valid = 0\n",
    "    for p in passwords:\n",
    "        if p.range[0] <= reduce(lambda count, char: count + 1 if char == p.letter else count, p.password, 0) <= p.range[1]:\n",
    "            valid += 1\n",
    "    return valid\n",
    "\n",
    "def day2_part2(passwords: List[PasswordAndPolicy]) -> int:\n",
    "    valid = 0\n",
    "    for p in passwords:\n",
    "        if (p.password[p.range[0] - 1] == p.letter) ^ (p.password[p.range[1] - 1] == p.letter):\n",
    "            valid += 1\n",
    "    return valid\n",
    "\n",
    "password_list = list(map(parse_password, open('input/day2.txt', 'r').readlines()))\n",
    "print('Part 1:', day2_part1(password_list))\n",
    "print('Part 2:', day2_part2(password_list))"
   ],
   "metadata": {
    "collapsed": false,
    "pycharm": {
     "name": "#%%\n"
    }
   }
  },
  {
   "cell_type": "markdown",
   "source": [
    "# [Day 3: Toboggan Trajectory](https://adventofcode.com/2020/day/3)\n",
    "\n",
    "## Part 1\n",
    "\n",
    "Given a map of open squares (`.`) and trees (`#`), start at the top left, travel 3 characters to the right and 1 character down each step,\n",
    "and count how many trees you hit until getting to the bottom row. The map repeats horizontally as many times as necessary.\n",
    "\n",
    "## Part 2\n",
    "\n",
    "Part 1 used a slope of $-1/3$. Try $-1$, $-1/3$, $-1/5$, $-1/7$, and $-2$ and multiply the results together."
   ],
   "metadata": {
    "collapsed": false
   }
  },
  {
   "cell_type": "code",
   "execution_count": 519,
   "outputs": [
    {
     "name": "stdout",
     "output_type": "stream",
     "text": [
      "Part 1: 153\n",
      "Part 2: 2421944712\n"
     ]
    }
   ],
   "source": [
    "def traverse(map_lines: List[str], right: int, down: int) -> int:\n",
    "    trees = 0\n",
    "    for index, line in enumerate(map_lines[::down]):\n",
    "        if line[(index * right) % len(line)] == '#':\n",
    "            trees += 1\n",
    "    return trees\n",
    "\n",
    "def day3_part1(map_lines: List[str]) -> int:\n",
    "    return traverse(map_lines, 3, 1)\n",
    "\n",
    "def day3_part2(map_lines: List[str]) -> int:\n",
    "    return reduce(lambda x, y: x * y, map(lambda r_d: traverse(map_lines, r_d[0], r_d[1]), [(1, 1), (3, 1), (5, 1), (7, 1), (1, 2)]))\n",
    "\n",
    "map_input = open('input/day3.txt', 'r').read().splitlines()\n",
    "print('Part 1:', day3_part1(map_input))\n",
    "print('Part 2:', day3_part2(map_input))"
   ],
   "metadata": {
    "collapsed": false,
    "pycharm": {
     "name": "#%%\n"
    }
   }
  },
  {
   "cell_type": "markdown",
   "source": [
    "# [Day 4: Passport Processing](https://adventofcode.com/2020/day/4)\n",
    "\n",
    "## Part 1\n",
    "\n",
    "Valid passports have the following fields: `byr, iyr, eyr, hgt, hcl, ecl, pid, cid`. `cid` can be missing, but nothing else can.\n",
    "\n",
    "Given a file with passports separated by empty lines, return the number of valid passports.\n",
    "\n",
    "## Part 2\n",
    "\n",
    "Field validation rules:\n",
    "\n",
    "`byr: [1920, 2002]`<br>\n",
    "`iyr: [2010, 2020]`<br>\n",
    "`eyr: [2020, 2030]`<br>\n",
    "`hgt: [150, 193]cm or [59, 76]in`<br>\n",
    "`hcl: #[0-9]|[a-f]`<br>\n",
    "`ecl: amb|blu|brn|gry|grn|hzl|oth`<br>\n",
    "`pid: 9 digit number including leading zeroes`<br>\n",
    "`cid: ignored`"
   ],
   "metadata": {
    "collapsed": false
   }
  },
  {
   "cell_type": "code",
   "execution_count": 520,
   "outputs": [
    {
     "name": "stdout",
     "output_type": "stream",
     "text": [
      "Part 1: 264\n",
      "Part 2: 224\n"
     ]
    }
   ],
   "source": [
    "@dataclass\n",
    "class Passport:\n",
    "    byr: int = None\n",
    "    iyr: int = None\n",
    "    eyr: int = None\n",
    "    hgt: str = None\n",
    "    hcl: str = None\n",
    "    ecl: str = None\n",
    "    pid: str = None\n",
    "\n",
    "def parse_passport(passport: str) -> Passport:\n",
    "    fields = dict(map(lambda x: x.split(':'), passport.split()))\n",
    "    return Passport(int(fields.get('byr') or 0), int(fields.get('iyr') or 0), int(fields.get('eyr') or 0), fields.get('hgt') or \"\", fields.get('hcl') or \"\", fields.get('ecl') or \"\", fields.get('pid') or \"\")\n",
    "\n",
    "def day4_part1(passports: List[Passport]) -> int:\n",
    "    return sum(map(lambda p: all([p.byr, p.iyr, p.eyr, p.hgt, p.hcl, p.ecl, p.pid]), passports))\n",
    "\n",
    "def day4_part2(passports: List[Passport]) -> int:\n",
    "    def is_valid(passport: Passport) -> bool:\n",
    "        height_re = re.match('(\\d*)(cm|in)', passport.hgt)\n",
    "        return all([passport.byr in range(1920, 2003),\n",
    "                    passport.iyr in range(2010, 2021),\n",
    "                    passport.eyr in range(2020, 2031),\n",
    "                    height_re and ((height_re.group(2) == 'cm' and int(height_re.group(1)) in range(150, 194)) or (height_re.group(2) == 'in' and int(height_re.group(1)) in range(59, 77))),\n",
    "                    re.match('#[0-9|a-f]{6}', passport.hcl),\n",
    "                    re.match('amb|blu|brn|gry|grn|hzl|oth', passport.ecl),\n",
    "                    re.match('\\d{9}$', passport.pid)])\n",
    "    return sum(map(is_valid, passports))\n",
    "\n",
    "passport_list = list(map(parse_passport, open('input/day4.txt', 'r').read().split('\\n\\n')))\n",
    "print('Part 1:', day4_part1(passport_list))\n",
    "print('Part 2:', day4_part2(passport_list))"
   ],
   "metadata": {
    "collapsed": false,
    "pycharm": {
     "name": "#%%\n"
    }
   }
  },
  {
   "cell_type": "markdown",
   "source": [
    "# [Day 5: Binary Boarding](https://adventofcode.com/2020/day/5)\n",
    "\n",
    "## Part 1\n",
    "\n",
    "Seats are numbered in binary partitioning, example `FBFBBFFRLR`. `F` and `B` are front and back half of rows, starting with\n",
    "the range 0-127. `L` and `R` are left and right half of columns, starting with 0-7.\n",
    "\n",
    "Seat ID is the row multiplied by 8 plus the column. Return the highest seat ID in the input.\n",
    "\n",
    "## Part 2\n",
    "\n",
    "Return the only missing seat ID, whose neighboring seats are in the input"
   ],
   "metadata": {
    "collapsed": false,
    "pycharm": {
     "name": "#%% md\n"
    }
   }
  },
  {
   "cell_type": "code",
   "execution_count": 521,
   "outputs": [
    {
     "name": "stdout",
     "output_type": "stream",
     "text": [
      "Part 1: 991\n",
      "Part 2: 534\n"
     ]
    }
   ],
   "source": [
    "def parse_seat(boarding_pass: str) -> Tuple[int, int]:\n",
    "    return int(boarding_pass[:7].replace('F', '0').replace('B', '1'), 2), int(boarding_pass[7:].replace('L', '0').replace('R', '1'), 2)\n",
    "\n",
    "def seat_id(seat: Tuple[int, int]) -> int:\n",
    "    return seat[0] * 8 + seat[1]\n",
    "\n",
    "def day5_part1(boarding_passes: List[str]) -> int:\n",
    "    return max(map(seat_id, map(parse_seat, boarding_passes)))\n",
    "\n",
    "def day5_part2(boarding_passes: List[str]) -> int:\n",
    "    seats = sorted(map(seat_id, map(parse_seat, boarding_passes)))\n",
    "    previous = seats[0] - 1\n",
    "    for seat in seats:\n",
    "        if seat - 1 != previous:\n",
    "            return seat - 1\n",
    "        previous = seat\n",
    "    return -1\n",
    "\n",
    "boarding_pass_list = open('input/day5.txt', 'r').readlines()\n",
    "print('Part 1:', day5_part1(boarding_pass_list))\n",
    "print('Part 2:', day5_part2(boarding_pass_list))"
   ],
   "metadata": {
    "collapsed": false,
    "pycharm": {
     "name": "#%%\n"
    }
   }
  },
  {
   "cell_type": "markdown",
   "source": [
    "# [Day 6: Custom Customs](https://adventofcode.com/2020/day/6)\n",
    "\n",
    "## Part 1\n",
    "\n",
    "Given groups of lines with letters indicating questions someone in the group answered \"yes\" to, return the sum of such questions\n",
    "for all groups.\n",
    "\n",
    "## Part 2\n",
    "\n",
    "Return how many questions everyone in the group answered \"yes\" to."
   ],
   "metadata": {
    "collapsed": false
   }
  },
  {
   "cell_type": "code",
   "execution_count": 522,
   "outputs": [
    {
     "name": "stdout",
     "output_type": "stream",
     "text": [
      "Part 1: 6310\n",
      "Part 2: 3193\n"
     ]
    }
   ],
   "source": [
    "def day6_part1(declarations: List[str]) -> int:\n",
    "    return sum(map(lambda d: len(set(d.replace('\\n', ''))), declarations))\n",
    "\n",
    "def day6_part2(declarations: List[str]) -> int:\n",
    "    return sum(map(lambda d: len(set.intersection(*map(set, d.split('\\n')))), declarations))\n",
    "\n",
    "customs_list = open('input/day6.txt', 'r').read().split('\\n\\n')\n",
    "print('Part 1:', day6_part1(customs_list))\n",
    "print('Part 2:', day6_part2(customs_list))"
   ],
   "metadata": {
    "collapsed": false,
    "pycharm": {
     "name": "#%%\n"
    }
   }
  },
  {
   "cell_type": "markdown",
   "source": [
    "# [Day 7: Handy Haversacks](https://adventofcode.com/2020/day/7)\n",
    "\n",
    "## Part 1\n",
    "\n",
    "Given rules about what bags can be inside other bags, return how many bags can eventually hold a shiny gold bag.\n",
    "\n",
    "## Part 2\n",
    "\n",
    "Return how many bags are inside a shiny gold bag."
   ],
   "metadata": {
    "collapsed": false
   }
  },
  {
   "cell_type": "code",
   "execution_count": 523,
   "outputs": [
    {
     "name": "stdout",
     "output_type": "stream",
     "text": [
      "Part 1: 272\n",
      "Part 2: 172246\n"
     ]
    }
   ],
   "source": [
    "from typing import Dict\n",
    "\n",
    "Rules = Dict[str, List[Tuple[int, str]]]\n",
    "\n",
    "def parse_rules(rules_list: List[str]) -> Rules:\n",
    "    rules = {}\n",
    "    for rule in rules_list:\n",
    "        outer_bag, rest = re.match('(.*) bags contain (.*)', rule).groups()\n",
    "        inner_bags = []\n",
    "        if rest != 'no other bags.':\n",
    "            inner_bags = list(map(lambda x: (int(x[0]), x[2:x.find(' bag')]), rest.split(', ')))\n",
    "        rules[outer_bag] = inner_bags\n",
    "    return rules\n",
    "\n",
    "def day7_part1(rules: Rules) -> int:\n",
    "    def check_bag(bag: str) -> bool:\n",
    "        inner_bags = list(map(lambda x: x[1], rules[bag]))\n",
    "        if 'shiny gold' in inner_bags:\n",
    "            return True\n",
    "        return any(map(check_bag, inner_bags))\n",
    "    return sum(map(check_bag, rules.keys()))\n",
    "\n",
    "def day7_part2(rules: Rules) -> int:\n",
    "    def count_bag(bag: str) -> int:\n",
    "        return sum(map(lambda x: x[0], rules[bag])) + sum(map(lambda x: x[0] * count_bag(x[1]), rules[bag]))\n",
    "    return count_bag('shiny gold')\n",
    "\n",
    "bag_rules = parse_rules(open('input/day7.txt', 'r').readlines())\n",
    "print('Part 1:', day7_part1(bag_rules))\n",
    "print('Part 2:', day7_part2(bag_rules))"
   ],
   "metadata": {
    "collapsed": false,
    "pycharm": {
     "name": "#%%\n"
    }
   }
  },
  {
   "cell_type": "markdown",
   "source": [
    "# [Day 8: Handheld Halting](https://adventofcode.com/2020/day/8)\n",
    "\n",
    "## Part 1\n",
    "\n",
    "Run the given bytecode, and return the value of the accumulator just before any instruction is executed for a second time.\n",
    "\n",
    "## Part 2\n",
    "\n",
    "Replace a `jmp` with a `nop` or vice versa to make the program terminate by running the instruction one beyond the end of the file,\n",
    "and return the accumulator after the program ends."
   ],
   "metadata": {
    "collapsed": false
   }
  },
  {
   "cell_type": "code",
   "execution_count": 524,
   "outputs": [
    {
     "name": "stdout",
     "output_type": "stream",
     "text": [
      "Part 1: 1727\n",
      "Part 2: 552\n"
     ]
    }
   ],
   "source": [
    "Code = List[Tuple[str, int]]\n",
    "\n",
    "def execute(code: Code) -> (int, bool):\n",
    "    accumulator = 0\n",
    "    executed = set()\n",
    "    i = 0\n",
    "    while i < len(code):\n",
    "        if i in executed:\n",
    "            break\n",
    "        executed.add(i)\n",
    "        operation, argument = code[i]\n",
    "        if operation == 'jmp':\n",
    "            i += argument\n",
    "            continue\n",
    "        elif operation == 'acc':\n",
    "            accumulator += argument\n",
    "        i += 1\n",
    "    return accumulator, i == len(code)\n",
    "\n",
    "def day8_part1(code: Code) -> int:\n",
    "    return execute(code)[0]\n",
    "\n",
    "def day8_part2(code: Code) -> int:\n",
    "    for i in range(len(code)):\n",
    "        if code[i][0] == 'nop' or code[i][0] == 'jmp':\n",
    "            new_code = code.copy()\n",
    "            new_code[i] = ('nop' if code[i][0] == 'jmp' else 'jmp', code[i][1])\n",
    "            accumulator, terminated = execute(new_code)\n",
    "            if terminated:\n",
    "                return accumulator\n",
    "\n",
    "boot_code = list(map(lambda i: (i[0], int(i[1])), map(lambda x: x.split(), open('input/day8.txt', 'r').readlines())))\n",
    "print('Part 1:', day8_part1(boot_code))\n",
    "print('Part 2:', day8_part2(boot_code))"
   ],
   "metadata": {
    "collapsed": false,
    "pycharm": {
     "name": "#%%\n"
    }
   }
  },
  {
   "cell_type": "markdown",
   "source": [
    "# [Day 9: Encoding Error](https://adventofcode.com/2020/day/9)\n",
    "\n",
    "## Part 1\n",
    "\n",
    "Each number in the input must be the sum of two different numbers in the previous 25. Find the first number which fails this test.\n",
    "\n",
    "## Part 2\n",
    "\n",
    "Find a contiguous subset that sums to the answer to part 1, and return the sum of the smallest and largest numbers in the subset."
   ],
   "metadata": {
    "collapsed": false
   }
  },
  {
   "cell_type": "code",
   "execution_count": 525,
   "outputs": [
    {
     "name": "stdout",
     "output_type": "stream",
     "text": [
      "Part 1: 29221323\n",
      "Part 1: 4389369\n"
     ]
    }
   ],
   "source": [
    "import collections\n",
    "\n",
    "def day9_part1(numbers: List[int]) -> int:\n",
    "    sums = collections.deque()\n",
    "    for i in range(25):\n",
    "        sums.append(list(map(lambda x: x + numbers[i], numbers[:i] + numbers[i + 1:25])))\n",
    "    for i in range(25, len(numbers)):\n",
    "        if not any(list(map(lambda x: numbers[i] in x, sums))):\n",
    "            return numbers[i]\n",
    "        sums.popleft()\n",
    "        sums.append(list(map(lambda x: x + numbers[i], numbers[i - 25:i])))\n",
    "    return -1\n",
    "\n",
    "def day9_part2(numbers: List[int]) -> int:\n",
    "    target = day9_part1(numbers)\n",
    "    for i in range(len(numbers)):\n",
    "        for j in range(i, len(numbers)):\n",
    "            total = sum(numbers[i:j])\n",
    "            if total == target:\n",
    "                return min(numbers[i:j]) + max(numbers[i:j])\n",
    "            if total > target:\n",
    "                break\n",
    "    return -1\n",
    "\n",
    "number_list = list(map(int, open('input/day9.txt', 'r').readlines()))\n",
    "print('Part 1:', day9_part1(number_list))\n",
    "print('Part 1:', day9_part2(number_list))"
   ],
   "metadata": {
    "collapsed": false,
    "pycharm": {
     "name": "#%%\n"
    }
   }
  },
  {
   "cell_type": "markdown",
   "source": [
    "# [Day 10: Adapter Array](https://adventofcode.com/2020/day/10)\n",
    "\n",
    "## Part 1\n",
    "\n",
    "In a chain using all given adapters, return the number of gaps of 1 multiplied by the number of gaps of 3.\n",
    "\n",
    "## Part 2\n",
    "\n",
    "Return how many ways the adapters can be arranged to connect the wall and the device."
   ],
   "metadata": {
    "collapsed": false
   }
  },
  {
   "cell_type": "code",
   "execution_count": 526,
   "outputs": [
    {
     "name": "stdout",
     "output_type": "stream",
     "text": [
      "Part 1: 2590\n",
      "Part 2: 226775649501184\n"
     ]
    }
   ],
   "source": [
    "def day10_part1(adapters: List[int]) -> int:\n",
    "    chain = [0] + sorted(adapters) + [max(adapters) + 3]\n",
    "    one, three = 0, 0\n",
    "    for i in range(1, len(chain)):\n",
    "        difference = chain[i] - chain[i - 1]\n",
    "        if difference == 1:\n",
    "            one += 1\n",
    "        if difference == 3:\n",
    "            three += 1\n",
    "    return one * three\n",
    "\n",
    "def day10_part2(adapters: List[int]) -> int:\n",
    "    sorted_adapters = [0] + sorted(adapters)\n",
    "    runs = [1]\n",
    "    for i in range(1, len(sorted_adapters)):\n",
    "        if sorted_adapters[i] - sorted_adapters[i - 1] == 1:\n",
    "            runs[-1] += 1\n",
    "        else:\n",
    "            runs.append(1)\n",
    "    total = 1\n",
    "    for run in runs:\n",
    "        if run == 3:\n",
    "            total *= 2\n",
    "        elif run == 4:\n",
    "            total *= 4\n",
    "        elif run == 5:\n",
    "            total *= 7\n",
    "    return total\n",
    "\n",
    "adapter_list = list(map(int, open('input/day10.txt', 'r').readlines()))\n",
    "print('Part 1:', day10_part1(adapter_list))\n",
    "print('Part 2:', day10_part2(adapter_list))"
   ],
   "metadata": {
    "collapsed": false,
    "pycharm": {
     "name": "#%%\n"
    }
   }
  },
  {
   "cell_type": "markdown",
   "source": [
    "# [Day 11: Seating System](https://adventofcode.com/2020/day/11)\n",
    "\n",
    "## Part 1\n",
    "\n",
    "Given a grid where `.` is floor, `L` is an empty seat, and `#` is an occupied seat, simulate rounds where an empty seat\n",
    "with no occupied neighbors becomes occupied, and an occupied seat with four or more occupied neighbors becomes empty.\n",
    "\n",
    "Return how many occupied seats there are after the simulation stabilizes.\n",
    "\n",
    "## Part 2\n",
    "\n",
    "Consider first seat in each direction rather than just adjacent seats, occupied seats now empty with five other visible occupied seats."
   ],
   "metadata": {
    "collapsed": false
   }
  },
  {
   "cell_type": "code",
   "execution_count": 528,
   "outputs": [
    {
     "name": "stdout",
     "output_type": "stream",
     "text": [
      "Part 1: 2113\n",
      "Part 2: 1865\n"
     ]
    }
   ],
   "source": [
    "from typing import Callable\n",
    "import copy\n",
    "\n",
    "def run_simulation(seat_map: List[List[str]], too_crowded: int, change_occupancy: Callable[[List[List[str]], List[List[int]], int, int, int], None]) -> int:\n",
    "    adjacency_map = [[0] * len(seat_map[0]) for _ in range(len(seat_map))]\n",
    "    previously_occupied, occupied_seats = -1, 0\n",
    "    while previously_occupied != occupied_seats:\n",
    "        previously_occupied = occupied_seats\n",
    "        previous_adjacency_map = copy.deepcopy(adjacency_map)\n",
    "        for i in range(len(seat_map)):\n",
    "            for j in range(len(seat_map[0])):\n",
    "                if seat_map[i][j] == 'L' and previous_adjacency_map[i][j] == 0:\n",
    "                    seat_map[i][j] = '#'\n",
    "                    change_occupancy(seat_map, adjacency_map, i, j, 1)\n",
    "                    occupied_seats += 1\n",
    "                elif seat_map[i][j] == '#' and previous_adjacency_map[i][j] >= too_crowded:\n",
    "                    seat_map[i][j] = 'L'\n",
    "                    change_occupancy(seat_map, adjacency_map, i, j, -1)\n",
    "                    occupied_seats -= 1\n",
    "    return occupied_seats\n",
    "\n",
    "def day11_part1(original_seat_map: List[List[str]]) -> int:\n",
    "    def change_occupancy(seat_map: List[List[str]], adjacency_map: List[List[int]], row: int, column: int, change: int):\n",
    "        for r in range(max(0, row - 1), min(len(seat_map), row + 2)):\n",
    "            for c in range(max(0, column - 1), min(len(seat_map[0]), column + 2)):\n",
    "                if not (r == row and c == column):\n",
    "                    adjacency_map[r][c] += change\n",
    "    return run_simulation(copy.deepcopy(original_seat_map), 4, change_occupancy)\n",
    "\n",
    "def day11_part2(original_seat_map: List[List[str]]) -> int:\n",
    "    def change_occupancy(seat_map: List[List[str]], adjacency_map: List[List[int]], row: int, column: int, change: int):\n",
    "        def first_visible_seat(row_change: int, column_change: int) -> Optional[Tuple[int, int]] :\n",
    "            r, c = row + row_change, column + column_change\n",
    "            while 0 <= r < len(seat_map) and 0 <= c < len(seat_map[0]):\n",
    "                if seat_map[r][c] in 'L#':\n",
    "                    return r, c\n",
    "                r += row_change\n",
    "                c += column_change\n",
    "            return None\n",
    "        visible_seats = filter(\n",
    "            lambda x: x is not None,\n",
    "            map(lambda direction: first_visible_seat(*direction), [(-1, 0), (-1, 1), (0, 1), (1, 1), (1, 0), (1, -1), (0, -1), (-1, -1)])\n",
    "        )\n",
    "        for seat in visible_seats:\n",
    "            adjacency_map[seat[0]][seat[1]] += change\n",
    "    return run_simulation(copy.deepcopy(original_seat_map), 5, change_occupancy)\n",
    "\n",
    "seat_map_input = list(map(list, open('input/day11.txt', 'r').readlines()))\n",
    "print('Part 1:', day11_part1(seat_map_input))\n",
    "print('Part 2:', day11_part2(seat_map_input))"
   ],
   "metadata": {
    "collapsed": false,
    "pycharm": {
     "name": "#%%\n"
    }
   }
  }
 ],
 "metadata": {
  "kernelspec": {
   "name": "pycharm-55871ef2",
   "language": "python",
   "display_name": "PyCharm (NIOA)"
  },
  "language_info": {
   "codemirror_mode": {
    "name": "ipython",
    "version": 2
   },
   "file_extension": ".py",
   "mimetype": "text/x-python",
   "name": "python",
   "nbconvert_exporter": "python",
   "pygments_lexer": "ipython2",
   "version": "2.7.6"
  }
 },
 "nbformat": 4,
 "nbformat_minor": 0
}