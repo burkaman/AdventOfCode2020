{
 "cells": [
  {
   "cell_type": "markdown",
   "metadata": {
    "collapsed": true,
    "pycharm": {
     "name": "#%% md\n"
    }
   },
   "source": [
    "# [Day 1: Report Repair](https://adventofcode.com/2020/day/1)\n",
    "\n",
    "## Part 1\n",
    "\n",
    "Given an expends report with an expense (integer) on each line, find two expenses that sum to 2020 and return their product.\n",
    "\n",
    "Example:\n",
    "\n",
    "`1721`<br>\n",
    "`979`<br>\n",
    "`366`<br>\n",
    "`299`<br>\n",
    "`675`<br>\n",
    "`1456`\n",
    "\n",
    "`1721 + 299 = 2020,`so return`514579`.\n",
    "\n",
    "## Part 2\n",
    "\n",
    "Find three expenses that satisfy the criteria above."
   ]
  },
  {
   "cell_type": "code",
   "execution_count": 176,
   "outputs": [
    {
     "name": "stdout",
     "output_type": "stream",
     "text": [
      "Part 1: 972576\n",
      "Part 2: 199300880\n"
     ]
    }
   ],
   "source": [
    "from typing import Optional, Set\n",
    "\n",
    "def day1_part1(expenses: Set[int]) -> Optional[int]:\n",
    "    for expense in expenses:\n",
    "        if 2020 - expense in expenses:\n",
    "            return expense * (2020 - expense)\n",
    "    return None\n",
    "\n",
    "def day1_part2(expenses: Set[int]) -> Optional[int]:\n",
    "    for expense in expenses:\n",
    "        for expense2 in expenses:\n",
    "            if expense == expense2:\n",
    "                pass\n",
    "            expense3 = 2020 - (expense + expense2)\n",
    "            if expense3 in expenses:\n",
    "                return expense * expense2 * expense3\n",
    "    return None\n",
    "\n",
    "expense_report = frozenset(map(int, open('input/day1.txt', 'r').readlines()))\n",
    "print('Part 1:', day1_part1(expense_report))\n",
    "print('Part 2:', day1_part2(expense_report))"
   ],
   "metadata": {
    "collapsed": false,
    "pycharm": {
     "name": "#%%\n"
    }
   }
  },
  {
   "cell_type": "markdown",
   "source": [
    "# [Day 2: Password Philosophy](https://adventofcode.com/2020/day/2)\n",
    "\n",
    "## Part 1\n",
    "\n",
    "Given a list of password policies and passwords, return how many passwords are valid.\n",
    "\n",
    "Format: `[min #]-[max #] [required letter]: [password]`\n",
    "\n",
    "Example: `1-3 a: abcde`\n",
    "\n",
    "In the example, the password must contain at least one and no more than three 'a's.\n",
    "\n",
    "## Part 2\n",
    "\n",
    "The numbers in the policy now refer to two 1-indexed positions in the password, exactly one of which must be the required letter."
   ],
   "metadata": {
    "collapsed": false
   }
  },
  {
   "cell_type": "code",
   "execution_count": 177,
   "outputs": [
    {
     "name": "stdout",
     "output_type": "stream",
     "text": [
      "Part 1: 467\n",
      "Part 2: 441\n"
     ]
    }
   ],
   "source": [
    "from dataclasses import dataclass\n",
    "from functools import reduce\n",
    "import re\n",
    "from typing import Tuple, List\n",
    "\n",
    "@dataclass\n",
    "class PasswordAndPolicy:\n",
    "    range: Tuple[int, int]\n",
    "    letter: str\n",
    "    password: str\n",
    "\n",
    "def parse_password(line: str) -> PasswordAndPolicy:\n",
    "    groups = re.match('(\\d+)-(\\d+) ([a-z]): ([a-z]+)', line).groups()\n",
    "    return PasswordAndPolicy((int(groups[0]), int(groups[1])), groups[2], groups[3])\n",
    "\n",
    "def day2_part1(passwords: List[PasswordAndPolicy]) -> int:\n",
    "    valid = 0\n",
    "    for p in passwords:\n",
    "        if p.range[0] <= reduce(lambda count, char: count + 1 if char == p.letter else count, p.password, 0) <= p.range[1]:\n",
    "            valid += 1\n",
    "    return valid\n",
    "\n",
    "def day2_part2(passwords: List[PasswordAndPolicy]) -> int:\n",
    "    valid = 0\n",
    "    for p in passwords:\n",
    "        if (p.password[p.range[0] - 1] == p.letter) ^ (p.password[p.range[1] - 1] == p.letter):\n",
    "            valid += 1\n",
    "    return valid\n",
    "\n",
    "password_list = list(map(parse_password, open('input/day2.txt', 'r').readlines()))\n",
    "print('Part 1:', day2_part1(password_list))\n",
    "print('Part 2:', day2_part2(password_list))"
   ],
   "metadata": {
    "collapsed": false,
    "pycharm": {
     "name": "#%%\n"
    }
   }
  },
  {
   "cell_type": "markdown",
   "source": [
    "# [Day 3: Toboggan Trajectory](https://adventofcode.com/2020/day/3)\n",
    "\n",
    "## Part 1\n",
    "\n",
    "Given a map of open squares (`.`) and trees (`#`), start at the top left, travel 3 characters to the right and 1 character down each step,\n",
    "and count how many trees you hit until getting to the bottom row. The map repeats horizontally as many times as necessary.\n",
    "\n",
    "## Part 2\n",
    "\n",
    "Part 1 used a slope of $-1/3$. Try $-1$, $-1/3$, $-1/5$, $-1/7$, and $-2$ and multiply the results together."
   ],
   "metadata": {
    "collapsed": false
   }
  },
  {
   "cell_type": "code",
   "execution_count": 178,
   "outputs": [
    {
     "name": "stdout",
     "output_type": "stream",
     "text": [
      "Part 1: 153\n",
      "Part 2: 2421944712\n"
     ]
    }
   ],
   "source": [
    "def traverse(map_lines: List[str], right: int, down: int) -> int:\n",
    "    trees = 0\n",
    "    for index, line in enumerate(map_lines[::down]):\n",
    "        if line[(index * right) % len(line)] == '#':\n",
    "            trees += 1\n",
    "    return trees\n",
    "\n",
    "def day3_part1(map_lines: List[str]) -> int:\n",
    "    return traverse(map_lines, 3, 1)\n",
    "\n",
    "def day3_part2(map_lines: List[str]) -> int:\n",
    "    return reduce(lambda x, y: x * y, map(lambda r_d: traverse(map_lines, r_d[0], r_d[1]), [(1, 1), (3, 1), (5, 1), (7, 1), (1, 2)]))\n",
    "\n",
    "map_input = open('input/day3.txt', 'r').read().splitlines()\n",
    "print('Part 1:', day3_part1(map_input))\n",
    "print('Part 2:', day3_part2(map_input))"
   ],
   "metadata": {
    "collapsed": false,
    "pycharm": {
     "name": "#%%\n"
    }
   }
  },
  {
   "cell_type": "markdown",
   "source": [
    "# [Day 4: Passport Processing](https://adventofcode.com/2020/day/4)\n",
    "\n",
    "## Part 1\n",
    "\n",
    "Valid passports have the following fields: `byr, iyr, eyr, hgt, hcl, ecl, pid, cid`. `cid` can be missing, but nothing else can.\n",
    "\n",
    "Given a file with passports separated by empty lines, return the number of valid passports.\n",
    "\n",
    "## Part 2\n",
    "\n",
    "Field validation rules:\n",
    "\n",
    "`byr: [1920, 2002]`<br>\n",
    "`iyr: [2010, 2020]`<br>\n",
    "`eyr: [2020, 2030]`<br>\n",
    "`hgt: [150, 193]cm or [59, 76]in`<br>\n",
    "`hcl: #[0-9]|[a-f]`<br>\n",
    "`ecl: amb|blu|brn|gry|grn|hzl|oth`<br>\n",
    "`pid: 9 digit number including leading zeroes`<br>\n",
    "`cid: ignored`"
   ],
   "metadata": {
    "collapsed": false
   }
  },
  {
   "cell_type": "code",
   "execution_count": 179,
   "outputs": [
    {
     "name": "stdout",
     "output_type": "stream",
     "text": [
      "Part 1: 264\n",
      "Part 2: 224\n"
     ]
    }
   ],
   "source": [
    "@dataclass\n",
    "class Passport:\n",
    "    byr: int = None\n",
    "    iyr: int = None\n",
    "    eyr: int = None\n",
    "    hgt: str = None\n",
    "    hcl: str = None\n",
    "    ecl: str = None\n",
    "    pid: str = None\n",
    "\n",
    "def parse_passport(passport: str) -> Passport:\n",
    "    fields = dict(map(lambda x: x.split(':'), passport.split()))\n",
    "    return Passport(int(fields.get('byr') or 0), int(fields.get('iyr') or 0), int(fields.get('eyr') or 0), fields.get('hgt') or \"\", fields.get('hcl') or \"\", fields.get('ecl') or \"\", fields.get('pid') or \"\")\n",
    "\n",
    "def day4_part1(passports: List[Passport]) -> int:\n",
    "    return sum(map(lambda p: all([p.byr, p.iyr, p.eyr, p.hgt, p.hcl, p.ecl, p.pid]), passports))\n",
    "\n",
    "def day4_part2(passports: List[Passport]) -> int:\n",
    "    def is_valid(passport: Passport) -> bool:\n",
    "        height_re = re.match('(\\d*)(cm|in)', passport.hgt)\n",
    "        return all([passport.byr in range(1920, 2003),\n",
    "                    passport.iyr in range(2010, 2021),\n",
    "                    passport.eyr in range(2020, 2031),\n",
    "                    height_re and ((height_re.group(2) == 'cm' and int(height_re.group(1)) in range(150, 194)) or (height_re.group(2) == 'in' and int(height_re.group(1)) in range(59, 77))),\n",
    "                    re.match('#[0-9|a-f]{6}', passport.hcl),\n",
    "                    re.match('amb|blu|brn|gry|grn|hzl|oth', passport.ecl),\n",
    "                    re.match('\\d{9}$', passport.pid)])\n",
    "    return sum(map(is_valid, passports))\n",
    "\n",
    "passport_list = list(map(parse_passport, open('input/day4.txt', 'r').read().split('\\n\\n')))\n",
    "print('Part 1:', day4_part1(passport_list))\n",
    "print('Part 2:', day4_part2(passport_list))"
   ],
   "metadata": {
    "collapsed": false,
    "pycharm": {
     "name": "#%%\n"
    }
   }
  },
  {
   "cell_type": "markdown",
   "source": [
    "# [Day 5: Binary Boarding](https://adventofcode.com/2020/day/5)\n",
    "\n",
    "## Part 1\n",
    "\n",
    "Seats are numbered in binary partitioning, example `FBFBBFFRLR`. `F` and `B` are front and back half of rows, starting with\n",
    "the range 0-127. `L` and `R` are left and right half of columns, starting with 0-7.\n",
    "\n",
    "Seat ID is the row multiplied by 8 plus the column. Return the highest seat ID in the input.\n",
    "\n",
    "## Part 2\n",
    "\n",
    "Return the only missing seat ID, whose neighboring seats are in the input"
   ],
   "metadata": {
    "collapsed": false,
    "pycharm": {
     "name": "#%% md\n"
    }
   }
  },
  {
   "cell_type": "code",
   "execution_count": 180,
   "outputs": [
    {
     "name": "stdout",
     "output_type": "stream",
     "text": [
      "Part 1: 991\n",
      "Part 2: 534\n"
     ]
    }
   ],
   "source": [
    "def parse_seat(boarding_pass: str) -> Tuple[int, int]:\n",
    "    return int(boarding_pass[:7].replace('F', '0').replace('B', '1'), 2), int(boarding_pass[7:].replace('L', '0').replace('R', '1'), 2)\n",
    "\n",
    "def seat_id(seat: Tuple[int, int]) -> int:\n",
    "    return seat[0] * 8 + seat[1]\n",
    "\n",
    "def day5_part1(boarding_passes: List[str]) -> int:\n",
    "    return max(map(seat_id, map(parse_seat, boarding_passes)))\n",
    "\n",
    "def day5_part2(boarding_passes: List[str]) -> int:\n",
    "    seats = sorted(map(seat_id, map(parse_seat, boarding_passes)))\n",
    "    previous = seats[0] - 1\n",
    "    for seat in seats:\n",
    "        if seat - 1 != previous:\n",
    "            return seat - 1\n",
    "        previous = seat\n",
    "    return -1\n",
    "\n",
    "boarding_pass_list = open('input/day5.txt', 'r').readlines()\n",
    "print('Part 1:', day5_part1(boarding_pass_list))\n",
    "print('Part 2:', day5_part2(boarding_pass_list))"
   ],
   "metadata": {
    "collapsed": false,
    "pycharm": {
     "name": "#%%\n"
    }
   }
  },
  {
   "cell_type": "code",
   "execution_count": null,
   "outputs": [],
   "source": [],
   "metadata": {
    "collapsed": false,
    "pycharm": {
     "name": "#%%\n"
    }
   }
  },
  {
   "cell_type": "code",
   "execution_count": null,
   "outputs": [],
   "source": [],
   "metadata": {
    "collapsed": false,
    "pycharm": {
     "name": "#%%\n"
    }
   }
  },
  {
   "cell_type": "code",
   "execution_count": null,
   "outputs": [],
   "source": [],
   "metadata": {
    "collapsed": false,
    "pycharm": {
     "name": "#%%\n"
    }
   }
  },
  {
   "cell_type": "markdown",
   "source": [],
   "metadata": {
    "collapsed": false
   }
  }
 ],
 "metadata": {
  "kernelspec": {
   "name": "pycharm-55871ef2",
   "language": "python",
   "display_name": "PyCharm (NIOA)"
  },
  "language_info": {
   "codemirror_mode": {
    "name": "ipython",
    "version": 2
   },
   "file_extension": ".py",
   "mimetype": "text/x-python",
   "name": "python",
   "nbconvert_exporter": "python",
   "pygments_lexer": "ipython2",
   "version": "2.7.6"
  }
 },
 "nbformat": 4,
 "nbformat_minor": 0
}